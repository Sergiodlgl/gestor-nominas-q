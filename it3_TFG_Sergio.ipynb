{
 "cells": [
  {
   "cell_type": "markdown",
   "id": "7f5e1640-eaa9-4c6c-a7b0-e1f654505e92",
   "metadata": {},
   "source": [
    "# 1. Importar tablas"
   ]
  },
  {
   "cell_type": "code",
   "execution_count": 1,
   "id": "303b12de-28a6-4248-afd5-7851619afe43",
   "metadata": {},
   "outputs": [],
   "source": [
    "/ 1.1. Importar tabla empleados\n",
    "employees:get `:data/employees;\n",
    "\n",
    "/show employees;"
   ]
  },
  {
   "cell_type": "code",
   "execution_count": 22,
   "id": "f3fea4cf-2e29-4e02-87f4-59e66e523437",
   "metadata": {},
   "outputs": [],
   "source": [
    "/ 1.2. Importar tabla de las bases de contribución\n",
    "contributionBasis:get `:data/contributionBasis;\n",
    "\n",
    "/show employees"
   ]
  },
  {
   "cell_type": "code",
   "execution_count": 3,
   "id": "b835529f-adcb-4324-9e2d-41860d2d855e",
   "metadata": {},
   "outputs": [],
   "source": [
    "/ 1.3. Importar tabla de tipos\n",
    "rateTypes:(\"DDFSsS\";enlist csv) 0: `$\":data/rateTypes.csv\";\n",
    "\n",
    "/show rateTypes"
   ]
  },
  {
   "cell_type": "code",
   "execution_count": 4,
   "id": "f9b3508a-581c-4051-b85a-860c9b2d1352",
   "metadata": {},
   "outputs": [],
   "source": [
    "/ 1.3. Importar tabla de escala irpf\n",
    "irpfScale:(\"DDFF\";enlist csv)0:`$\":data/irpfScale.csv\";\n",
    "\n",
    "irpfScale: ungroup select range, rate, acc:sums prev[rate]*deltas range\n",
    "                   by startDate, endDate \n",
    "                   from irpfScale;\n",
    "\n",
    "/show irpfScale"
   ]
  },
  {
   "cell_type": "markdown",
   "id": "80f073df-a6b2-49e3-bac3-f3480d2368a7",
   "metadata": {},
   "source": [
    "# 2. Variables globales"
   ]
  },
  {
   "cell_type": "code",
   "execution_count": 5,
   "id": "528acf0f-2224-47a4-88a9-e58c4ca9b365",
   "metadata": {},
   "outputs": [],
   "source": [
    "cnaes:string asc distinct rateTypes`cnae;                                 /all the cnae's strings"
   ]
  },
  {
   "cell_type": "markdown",
   "id": "b91a5f45-b6df-4cee-a038-46d6850ca0fc",
   "metadata": {},
   "source": [
    "# 3. Funciones\n"
   ]
  },
  {
   "cell_type": "markdown",
   "id": "95385962-447e-433f-a3ee-71118c7d05d1",
   "metadata": {},
   "source": [
    "## 3.1. Cálculo de las aportaciones"
   ]
  },
  {
   "cell_type": "code",
   "execution_count": 17,
   "id": "fb0b5b59-2ce2-45ff-8718-6375b3cc811b",
   "metadata": {},
   "outputs": [],
   "source": [
    "gacnae:{`$cnaes last where cnaes in (neg til count string x)_\\:string x}; /(g)et (a)ctual (cnae)\n",
    "\n",
    "gRate:{[mo;conti;contr;cn]                                                /(g)et (rate) type\n",
    "    0^first exec rate%100 \n",
    "            from rateTypes \n",
    "            where contingency=conti, \n",
    "                  contributor=contr, \n",
    "                  mo within (startDate;endDate),\n",
    "                  (cnae=gacnae[cn]) | cnae=`0};"
   ]
  },
  {
   "cell_type": "markdown",
   "id": "df51780b-a2e3-48c5-95c0-d682fb08cee1",
   "metadata": {},
   "source": [
    "## 3.2. Cálculo de las retenciones"
   ]
  },
  {
   "cell_type": "code",
   "execution_count": 18,
   "id": "5dc512ef-6dd3-4660-9638-44d3e3add52f",
   "metadata": {},
   "outputs": [],
   "source": [
    "calirpf:{[n;ye]                                                           /(c)alculate (irpf)\n",
    "    first exec acc+rate*n-range \n",
    "          from irpfScale \n",
    "          where ye within (`year$startDate;`year$endDate), i=range bin n};\n",
    "\n",
    "gIrpfRate:{[mo;ni;contr]                                                  /(g)et (irpf) (rate) type\n",
    "    if[contr=`E;:0];\n",
    "    r:first exec irpfRate \n",
    "           from irpfBasis \n",
    "           where nif=ni,year=`year$mo;\n",
    "    $[r=0;0;r|0.02]};"
   ]
  },
  {
   "cell_type": "markdown",
   "id": "0048a68d-f728-452d-a256-41045bf1c461",
   "metadata": {},
   "source": [
    "## 3.3. Funciones para monthlyContributions"
   ]
  },
  {
   "cell_type": "code",
   "execution_count": 19,
   "id": "6bacea47-9f69-42e2-9bdd-52cda2ad0209",
   "metadata": {},
   "outputs": [],
   "source": [
    "gconty:{[bt;ws]                                                           /(g)en (con)tribution (ty)pe\n",
    "    d: `commonBase`profBase`hExtraFMBase`hExtraBase`irpfBase`meiBase!\n",
    "    ((`cc;(`at;$[ws=`temp;`ded;`dei];`fp;`fgs);`hef;`he;`irpf;`mei));\n",
    "    d bt};\n",
    "\n",
    "cmonthly_contributions:{[nif;mon;contributor;conType;n;cnae]              /(c)reate monthlyContributions\n",
    "        $[conType=`irpf;\n",
    "          :gIrpfRate[mon;nif;contributor];\n",
    "          :gRate[mon;conType;contributor;cnae]];}"
   ]
  },
  {
   "cell_type": "markdown",
   "id": "dfff88ac-3e6f-4ce0-87d1-f4de3b1582b6",
   "metadata": {},
   "source": [
    "# 4. Generación de las tablas"
   ]
  },
  {
   "cell_type": "code",
   "execution_count": 20,
   "id": "75c85012-0c9e-4b81-a06c-b905a58ca3d9",
   "metadata": {},
   "outputs": [
    {
     "data": {
      "text/plain": [
       "c        | t f a\r\n",
       "---------| -----\r\n",
       "year     | i   p\r\n",
       "nif      | s    \r\n",
       "aIrpfBase| f    \r\n",
       "mpf      | f    \r\n",
       "retfee   | f    \r\n",
       "irpfRate | f    \r\n"
      ]
     },
     "execution_count": 20,
     "metadata": {},
     "output_type": "execute_result"
    }
   ],
   "source": [
    "/---------- monthlyContributionsla auxiliar irpfBasis ----------\n",
    "irpfBasis: () xkey select aIrpfBase: sum amount, mpf:5500f                /new monthlyContributionsle with: (a)ctual (irpfBase)  & \"(m)ínimo (p)ersonal y (f)amiliar\"\n",
    "                   by year:`year$month, nif \n",
    "                   from contributionBasis\n",
    "                   where baseType=`irpfBase;\n",
    "\n",
    "update retfee: 0 | calirpf'[aIrpfBase;year] - calirpf'[mpf;year]          /add a column for (ret)ention (fee)\n",
    "    from `irpfBasis;\n",
    "\n",
    "update irpfRate: 0.01 xbar 0.005 + retfee%aIrpfBase                       /add a column for the irpf Rate\n",
    "    from `irpfBasis;\n",
    "\n",
    "meta irpfBasis\n",
    "\n",
    "/---------- monthlyContributionsla auxiliar irpfBasis ----------\n",
    "monthlyContributions: update contributionType: gconty'[baseType;workingSchedule]\n",
    "                      from contributionBasis lj \n",
    "                           `nif xkey select workingSchedule, nif from employees;\n",
    "\n",
    "monthlyContributions: raze {n: 2*count x[`contributionType];\n",
    "     flip `nif`month`contributor`contributionType`amount!(\n",
    "        n#x[`nif];\n",
    "        n#x[`month];\n",
    "        ((n div 2)#`E),(n div 2)#`T;\n",
    "        (x[`contributionType]),x[`contributionType];\n",
    "        n#x[`amount])} each monthlyContributions;\n",
    "\n",
    "monthlyContributions: update amount: amount*cmonthly_contributions'[nif;month;contributor;contributionType;amount;cnae]\n",
    "                      from monthlyContributions lj \n",
    "                           `nif xkey select cnae, nif from employees;\n",
    "\n",
    "monthlyContributions: select nif, month, contributor, contributionType, amount \n",
    "                      from `monthlyContributions \n",
    "                      where amount<>0;"
   ]
  },
  {
   "cell_type": "markdown",
   "id": "8a02355a-dc82-4577-b1a2-92e680ea5906",
   "metadata": {},
   "source": [
    "Si se quisiese ver de forma más visual de las bases de cotización se puede pivotar la tabla de la siguiente manera:"
   ]
  },
  {
   "cell_type": "code",
   "execution_count": 21,
   "id": "e58ed3ed-0743-4eb4-b4be-72d8ee9c5fc6",
   "metadata": {},
   "outputs": [
    {
     "name": "stdout",
     "output_type": "stream",
     "text": [
      "nif       month   contributor| cc       at       fp       fgs      hef      h..\n",
      "-----------------------------| ----------------------------------------------..\n",
      "00193031S 2021.07 E          | 247.8    34.65    6.3      2.1      89.52919 1..\n",
      "00193031S 2021.07 T          | 49.35    0        1.05     0        14.92153 3..\n",
      "00193031S 2021.08 E          | 614.611  85.94137 15.6257  5.208568 312.5141 6..\n",
      "00193031S 2021.08 T          | 122.4013 0        2.604284 0        52.08568 1..\n",
      "00193031S 2021.09 E          | 615.7022 86.09395 15.65344 5.217815 313.0689 6..\n",
      "00193031S 2021.09 T          | 122.6186 0        2.608907 0        52.17815 1..\n",
      "00193031S 2021.10 E          | 604.1195 86.2845  15.68809 5.229364 313.7618 6..\n",
      "00193031S 2021.10 T          | 120.3119 0        2.614682 0        52.29364 1..\n",
      "00193031S 2022.07 E          | 275.3412 38.5011  7.0002   2.3334   89.37942 1..\n",
      "00193031S 2022.07 T          | 54.8349  0        1.1667   0        14.89657 3..\n",
      "00193031S 2022.08 E          | 580.5155 81.17378 14.75887 4.919623 295.1774 5..\n",
      "00193031S 2022.08 T          | 115.6111 0        2.459812 0        49.19623 1..\n",
      "00193031S 2022.09 E          | 634.8369 88.76956 16.13992 5.379974 322.7984 6..\n",
      "00193031S 2022.09 T          | 126.4294 0        2.689987 0        53.79974 1..\n",
      "00193031S 2022.10 E          | 605.6776 84.69221 15.39858 5.132861 307.9717 6..\n",
      "00193031S 2022.10 T          | 120.6222 0        2.56643  0        51.32861 1..\n",
      "00193031S 2023.07 E          | 297.36   41.58    7.56     2.52     91.57351 1..\n",
      "00193031S 2023.07 T          | 59.22    0        1.26     0        15.26225 3..\n",
      "00193031S 2023.08 E          | 612.4812 85.64356 15.57156 5.190519 311.4311 6..\n",
      "00193031S 2023.08 T          | 121.9772 0        2.595259 0        51.90519 1..\n",
      "..\n"
     ]
    }
   ],
   "source": [
    "show 0^exec `cc`at`fp`fgs`hef`he`irpf`mei#(contributionType!amount)\n",
    "    by nif,month,contributor\n",
    "    from monthlyContributions;"
   ]
  },
  {
   "cell_type": "markdown",
   "id": "9e275b41-e597-43c8-9cdb-23de44e97c9d",
   "metadata": {},
   "source": [
    "# 5. Guardar datos en csv"
   ]
  },
  {
   "cell_type": "code",
   "execution_count": 11,
   "id": "1fd575aa-6448-4d61-8ad0-822e7a6ab7f6",
   "metadata": {},
   "outputs": [],
   "source": [
    "`:data/monthlyContributions set monthlyContributions;"
   ]
  },
  {
   "cell_type": "code",
   "execution_count": 12,
   "id": "12042428-2b12-4acd-8187-856b5616bffe",
   "metadata": {},
   "outputs": [
    {
     "data": {
      "text/plain": [
       "704396\r\n"
      ]
     },
     "execution_count": 12,
     "metadata": {},
     "output_type": "execute_result"
    }
   ],
   "source": [
    "count monthlyContributions"
   ]
  }
 ],
 "metadata": {
  "kernelspec": {
   "display_name": "Q (kdb+)",
   "language": "q",
   "name": "qpk"
  },
  "language_info": {
   "file_extension": ".q",
   "mimetype": "text/x-q",
   "name": "q",
   "version": "4.1.0"
  }
 },
 "nbformat": 4,
 "nbformat_minor": 5
}
