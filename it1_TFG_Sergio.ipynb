{
 "cells": [
  {
   "cell_type": "markdown",
   "id": "7f5e1640-eaa9-4c6c-a7b0-e1f654505e92",
   "metadata": {},
   "source": [
    "# 1. Importar tablas"
   ]
  },
  {
   "cell_type": "code",
   "execution_count": 1,
   "id": "291f2b7e-81ec-4ee6-908c-13b7b880454d",
   "metadata": {},
   "outputs": [],
   "source": [
    "timeorigin: .z.t"
   ]
  },
  {
   "cell_type": "code",
   "execution_count": 2,
   "id": "303b12de-28a6-4248-afd5-7851619afe43",
   "metadata": {},
   "outputs": [],
   "source": [
    "/ 1.1. Importar tabla nombres\n",
    "names:(\"*J\";enlist \";\") 0:`$\":data/names.csv\";\n",
    "\n",
    "update sums frecuencia from `names;\n",
    "/show names;"
   ]
  },
  {
   "cell_type": "code",
   "execution_count": 3,
   "id": "f3fea4cf-2e29-4e02-87f4-59e66e523437",
   "metadata": {},
   "outputs": [],
   "source": [
    "/ 1.2. Importar tabla apellidos\n",
    "surnames:(\"*JJ\";enlist \";\") 0:`$\":data/surnames.csv\";\n",
    "\n",
    "update sums frec1, sums frec2 from `surnames;\n",
    "/show surnames;"
   ]
  },
  {
   "cell_type": "code",
   "execution_count": 4,
   "id": "f515f8aa-d89a-423e-9d00-5bbfd38352e7",
   "metadata": {},
   "outputs": [],
   "source": [
    "/ 1.3. Importar tabla lista cnae\n",
    "cnae:(\"**\";enlist \";\") 0:`$\":data/cnae.csv\";\n",
    "\n",
    "update \"S\"$codigo from `cnae;\n",
    "/show cnae;"
   ]
  },
  {
   "cell_type": "code",
   "execution_count": 5,
   "id": "4c3a3868-4ba2-4564-a255-31fb62458fed",
   "metadata": {},
   "outputs": [],
   "source": [
    "/ 1.4. Importar tabla costes salariales\n",
    "eacl:(\"*JFF\";enlist \";\") 0:`$\":data/eacl.csv\";\n",
    "\n",
    "update \"S\"$division from `eacl;\n",
    "eacl:  update anio: {(2025 2024),x}'[anio],\n",
    "              salario: {((1.05*1.0441;1.05)*(2#first x)),x}'[salario],\n",
    "              resto_costes: {((1.05*1.0441;1.05)*(2#first x)),x}'[resto_costes]\n",
    "       from `division xgroup eacl;\n",
    "/show eacl"
   ]
  },
  {
   "cell_type": "markdown",
   "id": "80f073df-a6b2-49e3-bac3-f3480d2368a7",
   "metadata": {},
   "source": [
    "# 2. Variables globales"
   ]
  },
  {
   "cell_type": "code",
   "execution_count": 6,
   "id": "0a7be10b-b04d-4a4f-ac17-fc1ad9ed65e4",
   "metadata": {},
   "outputs": [],
   "source": [
    "n_Employees: 1000;                           /(n)umero de empleados\n",
    "\n",
    "t_names: last names[`frecuencia];            /(t)otal de nombres\n",
    "t_surn1: last surnames[`frec1];              /(t)otal de primeros apellidos\n",
    "t_surn2: last surnames[`frec2];              /(t)otal de segundos apellidos\n",
    "\n",
    "l_cnae: cnae[`codigo];                       /(l)ista cnae\n",
    "\n",
    "i_date: 2009.01.01                           /(i)nicio fecha\n",
    "\n",
    "\n",
    "l_division: (\"I\"$ string distinct key eacl)  /(l)ista (division) cnae"
   ]
  },
  {
   "cell_type": "markdown",
   "id": "b91a5f45-b6df-4cee-a038-46d6850ca0fc",
   "metadata": {},
   "source": [
    "# 3. Funciones"
   ]
  },
  {
   "cell_type": "markdown",
   "id": "e56d4dec-ac26-49d5-ae29-abc1f2c2f497",
   "metadata": {},
   "source": [
    "## 3.1. employees"
   ]
  },
  {
   "cell_type": "code",
   "execution_count": 7,
   "id": "8eed7b9e-2f44-4aff-889e-52bce22da2f6",
   "metadata": {},
   "outputs": [],
   "source": [
    "gnameaux:{[tabla;colValor; colFreq; total]                               /(g)en (name)-(aux)iliar\n",
    "    tabla[colValor] prev[tabla[colFreq]] bin rand total};\n",
    "\n",
    "/---------- funciones de cada campo de empleado ----------\n",
    "\n",
    "gnif:{`${x,\"TRWAGMYFPDXBNJZSQVHLCKE\"[(\"J\"$x) mod 23]}8 ? .Q.n};          /(g)en (nif)\n",
    "\n",
    "gname: {\" \" sv gnameaux'[                                                /(g)en (name)\n",
    "    (`names,       `surnames,  `surnames);\n",
    "    (`nombre,      `apellido,  `apellido); \n",
    "    (`frecuencia,  `frec1,     `frec2);\n",
    "    (t_names,      t_surn1,    t_surn2)]}\n",
    "\n",
    "gnaf:{{x,-2#\"0\",string (\"J\"$x) mod 97}\"28\", 8 ? .Q.n};                   /(g)en (naf)\n",
    "\n",
    "gconty:{`fijodis`indef`temp  0 0.15 0.40 bin rand 1f};                   /(g)en (con)tract (ty)pe\n",
    "\n",
    "gworks:{`parcial`completo  0 0.35 bin rand 1f};                          /(g)en (work) (s)chedule\n",
    "\n",
    "gcongr:{1+rand 11};                                                      /(g)en (con)tribution (gr)oup\n",
    "\n",
    "gcnae:{rand l_cnae};                                                     /(g)en (cnae)\n",
    "\n",
    "/---------- funciones de cada campo de empleado ----------\n",
    "\n",
    "gemployee:{`nif`name`naf`contractType`workingSchedule`contrGroup`cnae!   /(g)en (employee) \n",
    "           ((@[;::]')(gnif;gname;gnaf;gconty;gworks;gcongr;gcnae))};\n",
    "\n",
    "cemployee:{gemployee each x#null};                                       /(c)reate (employee) "
   ]
  },
  {
   "cell_type": "markdown",
   "id": "2975e259-605a-4a01-8df0-5e27d3078234",
   "metadata": {},
   "source": [
    "## 3.2. temp_month"
   ]
  },
  {
   "cell_type": "code",
   "execution_count": 8,
   "id": "7e148f3d-01ce-4548-ab20-0d08d8149c01",
   "metadata": {},
   "outputs": [],
   "source": [
    "gdate:{x+rand .z.d-x};                                                              /(g)en (date)\n",
    "\n",
    "gdwinmon:{[m;sd;ed]$[m=\"m\"$ed;`dd$ed;`dd$(\"d\"$m+1)-1]-$[m=\"m\"$sd;(`dd$sd)-1i;0i]};   /(g)et (d)ays (w)orked (in) a (mon)th\n",
    "\n",
    "gmatrd:{[x;m;s;e]gdwinmon'[m[x;];                                                    /(g)et (matr)ix with (d)ays\n",
    "                        .Q.addmonths[s;x*12];\n",
    "                        .Q.addmonths[e;x*12]]};\n",
    "\n",
    "/---------- funciones de cada tipo de contrato ----------\n",
    "\n",
    "gmindef:{[sd]md:`month$sd;                                                        /(g)en (m)onths (`indef)\n",
    "             mlist:md+/:til 1+(`month$.z.d)-md-1;\n",
    "             dlist:gdwinmon[;sd;0Wd]'[mlist];\n",
    "             flip `month`daysWorked!(mlist;dlist)};\n",
    "\n",
    "gmtemp:{[sd]md:`month$sd;                                                          /(g)en (m)onths (`temp)\n",
    "            mlist: md+/:til (`month$gdate(`date$md))-md-1;\n",
    "            ed:gdate(sd);\n",
    "            dlist:gdwinmon[;sd;ed]'[mlist];\n",
    "            flip `month`daysWorked!(mlist;dlist)};\n",
    "\n",
    "gmfijodis:{[sd]md:`month$sd;                                                      /(g)en (m)onths (`fijodis)\n",
    "               matrm: (12 cut md+/:til (`month$.z.d)-md-1)[;til 2+rand 10];\n",
    "               firstl:matrm[0;] where not null matrm[0;];\n",
    "               ed:(`date$last firstl)+1+rand `dd$(`date$(last firstl)+1)-1; \n",
    "               matrd:gmatrd[;matrm;sd;ed]each rank matrm;\n",
    "               t:flip `month`daysWorked!(raze matrm;raze matrd);\n",
    "               t where not null t[`month]};\n",
    "\n",
    "/---------- funciones de cada tipo de contrato ----------\n",
    "\n",
    "gtabmad:{[ct] sd:gdate[i_date];                                                       /(g)en (tab)le (m)onth (a)nd (d)ate\n",
    "              funcs: `indef`temp`fijodis!((gmindef; gmtemp; gmfijodis));\n",
    "              (funcs ct)sd}"
   ]
  },
  {
   "cell_type": "markdown",
   "id": "16ff6a69-34bb-4d83-bbf7-414c7e4f6c20",
   "metadata": {},
   "source": [
    "## 3.3. temp_remuneration"
   ]
  },
  {
   "cell_type": "code",
   "execution_count": 9,
   "id": "09146aa5-98b7-4ff9-8f91-81fd6bd33dd1",
   "metadata": {},
   "outputs": [],
   "source": [
    "/---------- funciones de cada tipo de remuneracion ----------\n",
    "\n",
    "gsb:{[s](`sb;s)};                                                                        /(g)en \"(s)alario (b)ase\"\n",
    "\n",
    "ghefm:{[s]if[rand[1.]>.01; :(`;0n)];                                                     /(g)en \"(h)oras (e)xtra (f)uerza (m)ayor\"\n",
    "          (`hefm;s*1.75*rand[7]%140)};\n",
    "\n",
    "gher:{[s]if[rand[1.]>.3; :(`;0n)];                                                       /(g)en \"(h)oras (e)xtra (r)esto\"\n",
    "          (`her;s*1.75*(1+rand[7])%140)};\n",
    "\n",
    "gge:{[s](`ge;s%6)};                                                                      /(g)en \"(g)ratificación (e)xtrasalarial\"\n",
    "\n",
    "gse:{[s]if[rand[1.]>.1; :(`;0n)];                                                        /(g)en \"(s)alario (e)especie\"\n",
    "          (`se;s*rand .05)};\n",
    "\n",
    "gpns:{[r]if[rand[1.]>.02; :(`;0n)];                                                      /(g)en \"(p)ercepcion (n)o (s)alarial\"\n",
    "          :(`pns;r*.5*rand 1.)};\n",
    "\n",
    "god:{[r]if[rand[1.]>.02; :(`;0n)];                                                       /(g)en \"(o)tras (d)educciones\"\n",
    "          :(`od;r*.5*rand 1.)};\n",
    "\n",
    "/---------- funciones de cada tipo de remuneracion ----------\n",
    "\n",
    "gremtu:{[sal;res]{x where not null x} each flip ((@[;sal]')(gsb;ghefm;gher;gge;gse)),        /(g)en (rem)uneration (tu)ples\n",
    "                                                    ((@[;res]')(gpns;god))}\n",
    "\n",
    "gtdic:{[cn] eacl `$-2#\"0\",string first value l_division l_division bin \"I\"$2#string cn}; /(g)e(t) (dic)tionary\n",
    "\n",
    "gtabrat:{[cn;mon;wd;ws]dic:gtdic[cn];\n",
    "                       pos:where dic[`anio] = `year$mon;                               /(g)en (tab)le (r)emuneration (a)nd (t)ype\n",
    "                       prorat:wd%`dd$(`date$(mon+1))-1;\n",
    "                       sal:(1%12)*(0.80+rand .1)*prorat*first dic[`salario]pos;\n",
    "                       res:(1%12)*(0.95+rand .1)*prorat*first dic[`resto_costes]pos;\n",
    "                       t:`remunerationType`amount!\n",
    "                       (gremtu[sal;res]);\n",
    "                       t[`amount]*:$[ws=`parcial;0.5;1];\n",
    "                       :flip t;};"
   ]
  },
  {
   "cell_type": "markdown",
   "id": "3f30e046-0851-41df-aef5-e43398ffd475",
   "metadata": {},
   "source": [
    "## 3.4. remunerations"
   ]
  },
  {
   "cell_type": "code",
   "execution_count": 10,
   "id": "f1b1ee1d-c25c-4161-b934-48fd2756c8e5",
   "metadata": {},
   "outputs": [],
   "source": [
    "ctemp_month:{[ct;nf]temp_month: gtabmad[ct];\n",
    "                    temp_month[`nif]:nf;\n",
    "                    temp_month};\n",
    "\n",
    "ctemp_rem:{[mon;dw;nf;ws;cn]temp_rem: gtabrat[cn;mon;dw;ws];\n",
    "                            temp_rem[`nif]:nf;\n",
    "                            temp_rem[`month]:mon;\n",
    "                            delete from (`nif`month xcols temp_rem) where amount = 0};"
   ]
  },
  {
   "cell_type": "markdown",
   "id": "dfff88ac-3e6f-4ce0-87d1-f4de3b1582b6",
   "metadata": {},
   "source": [
    "# 4. Generación de las tablas"
   ]
  },
  {
   "cell_type": "code",
   "execution_count": 11,
   "id": "8dcc1517-1ac7-423e-b451-96b8b025bf37",
   "metadata": {},
   "outputs": [],
   "source": [
    "employees:cemployee[n_Employees];\n",
    "\n",
    "\n",
    "rem1:raze ctemp_month'[employees[`contractType];\n",
    "                       employees[`nif]];\n",
    "\n",
    "rem2: rem1 lj `nif xkey select workingSchedule, cnae, nif from employees\n",
    "\n",
    "remunerations:raze ctemp_rem'[rem2[`month];\n",
    "                              rem2[`daysWorked];\n",
    "                              rem2[`nif];\n",
    "                              rem2[`workingSchedule];\n",
    "                              rem2[`cnae]];\n",
    "\n",
    "/---------- añadir complemento salarial ----------\n",
    "\n",
    "tabtriennium:delete from \n",
    "                (ungroup select triennium:1 xbar(\"i\"$distinct month-\"i\"$min distinct month)%36,\n",
    "                                distinct month\n",
    "                          by nif from remunerations)\n",
    "             where triennium=0f;\n",
    "\n",
    "tabtriennium: tabtriennium lj select salamount: sum amount by nif, month from remunerations where (max remunerationType=/:`sb`ge);\n",
    "\n",
    "newRows: flip `nif`month`remunerationType`amount!(\n",
    "               tabtriennium[`nif];\n",
    "               tabtriennium[`month];\n",
    "               `cs;\n",
    "               0.03 * tabtriennium[`salamount] * tabtriennium[`triennium]);\n",
    "\n",
    "remunerations,:newRows;\n",
    "/---------- añadir complemento salarial ----------"
   ]
  },
  {
   "cell_type": "code",
   "execution_count": 12,
   "id": "3236bed8-650d-4a5b-8390-bf4b7d7eedb8",
   "metadata": {},
   "outputs": [],
   "source": [
    "timeend: .z.t"
   ]
  },
  {
   "cell_type": "markdown",
   "id": "c853b933-2345-4189-8fc2-1edd92abfa9a",
   "metadata": {},
   "source": [
    "Si se quisiese ver de forma más visual de las remuneraciones se puede pivotar la tabla de la siguiente manera:"
   ]
  },
  {
   "cell_type": "code",
   "execution_count": 13,
   "id": "e3bf2bf5-8255-4816-a93d-3362e5065374",
   "metadata": {},
   "outputs": [
    {
     "name": "stdout",
     "output_type": "stream",
     "text": [
      "nif       month  | sb       cs hefm her      ge       se       pns od\n",
      "-----------------| --------------------------------------------------\n",
      "00193031S 2023.01| 1647.163 0  0    0        274.5272 0        0   0 \n",
      "00193031S 2023.02| 2163.747 0  0    0        360.6245 0        0   0 \n",
      "00193031S 2023.03| 2127.162 0  0    0        354.527  0        0   0 \n",
      "00193031S 2023.04| 2178.968 0  0    108.9484 363.1613 0        0   0 \n",
      "00193031S 2023.05| 2174.955 0  0    81.56081 362.4925 0        0   0 \n",
      "00193031S 2023.06| 2150.58  0  0    53.76449 358.4299 0        0   0 \n",
      "00193031S 2023.07| 292.0246 0  0    18.25154 48.67077 0        0   0 \n",
      "00193031S 2024.01| 1772.11  0  0    0        295.3517 0        0   0 \n",
      "00193031S 2024.02| 2254.064 0  0    0        375.6773 0        0   0 \n",
      "00193031S 2024.03| 2449.423 0  0    0        408.2371 0        0   0 \n",
      "00193031S 2024.04| 2384.793 0  0    0        397.4655 0        0   0 \n",
      "00193031S 2024.05| 2379.673 0  0    0        396.6121 0        0   0 \n",
      "00193031S 2024.06| 2281.217 0  0    57.03043 380.2029 0        0   0 \n",
      "00193031S 2024.07| 291.1199 0  0    14.556   48.51999 0        0   0 \n",
      "00193031S 2025.01| 1964.019 0  0    0        327.3365 14.82961 0   0 \n",
      "00193031S 2025.02| 2413.347 0  0    150.8342 402.2245 0        0   0 \n",
      "00193031S 2025.03| 2519.673 0  0    94.48773 419.9454 0        0   0 \n",
      "00193031S 2025.04| 2417.543 0  0    0        402.9238 0        0   0 \n",
      "00193031S 2025.05| 2415.729 0  0    60.39321 402.6214 0        0   0 \n",
      "00193031S 2025.06| 2355.197 0  0    58.87993 392.5329 0        0   0 \n",
      "..\n"
     ]
    }
   ],
   "source": [
    "show 0^exec `sb`cs`hefm`her`ge`se`pns`od#(remunerationType!amount) by nif,month from remunerations;"
   ]
  },
  {
   "cell_type": "markdown",
   "id": "9e275b41-e597-43c8-9cdb-23de44e97c9d",
   "metadata": {},
   "source": [
    "# 5. Guardar datos"
   ]
  },
  {
   "cell_type": "code",
   "execution_count": 14,
   "id": "d91c6815-bd56-4555-8175-4a22c5f8c0bc",
   "metadata": {},
   "outputs": [],
   "source": [
    "`:data/employees set employees;\n",
    "`:data/remunerations set remunerations;"
   ]
  },
  {
   "cell_type": "code",
   "execution_count": 15,
   "id": "87b97bf5-c971-4fc6-a1eb-aff6630f8275",
   "metadata": {},
   "outputs": [
    {
     "data": {
      "text/plain": [
       "\"Number of employees: 1000\"\r\n"
      ]
     },
     "execution_count": 15,
     "metadata": {},
     "output_type": "execute_result"
    },
    {
     "data": {
      "text/plain": [
       "\"Number of remunerations: 194518\"\r\n"
      ]
     },
     "execution_count": 15,
     "metadata": {},
     "output_type": "execute_result"
    },
    {
     "data": {
      "text/plain": [
       "\"Total time spent: 00:00:01.285\"\r\n"
      ]
     },
     "execution_count": 15,
     "metadata": {},
     "output_type": "execute_result"
    }
   ],
   "source": [
    "\"Number of employees: \", string count employees\n",
    "\"Number of remunerations: \", string count remunerations\n",
    "\n",
    "\"Total time spent: \",string timeend-timeorigin"
   ]
  }
 ],
 "metadata": {
  "kernelspec": {
   "display_name": "Q (kdb+)",
   "language": "q",
   "name": "qpk"
  },
  "language_info": {
   "file_extension": ".q",
   "mimetype": "text/x-q",
   "name": "q",
   "version": "4.1.0"
  }
 },
 "nbformat": 4,
 "nbformat_minor": 5
}
