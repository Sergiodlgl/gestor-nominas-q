{
 "cells": [
  {
   "cell_type": "markdown",
   "id": "7f5e1640-eaa9-4c6c-a7b0-e1f654505e92",
   "metadata": {},
   "source": [
    "# 1. Importar tablas"
   ]
  },
  {
   "cell_type": "code",
   "execution_count": 1,
   "id": "6a6ac996-0b34-4898-9780-0cb58bbeea87",
   "metadata": {},
   "outputs": [],
   "source": [
    "timeorigin: .z.t"
   ]
  },
  {
   "cell_type": "code",
   "execution_count": 2,
   "id": "303b12de-28a6-4248-afd5-7851619afe43",
   "metadata": {},
   "outputs": [],
   "source": [
    "/ 1.1. Importar tabla empleados\n",
    "employees:get `:data/employees;\n",
    "\n",
    "/show employees;"
   ]
  },
  {
   "cell_type": "code",
   "execution_count": 3,
   "id": "f3fea4cf-2e29-4e02-87f4-59e66e523437",
   "metadata": {},
   "outputs": [],
   "source": [
    "/ 1.2. Importar tabla remuneraciones\n",
    "remunerations:get `:data/remunerations;\n",
    "\n",
    "/show employees;"
   ]
  },
  {
   "cell_type": "code",
   "execution_count": 4,
   "id": "b835529f-adcb-4324-9e2d-41860d2d855e",
   "metadata": {},
   "outputs": [],
   "source": [
    "/ 1.3. Importar tabla de bases mínimas y máximas\n",
    "minMaxBasis:(\"DDFFI\";enlist csv) 0: `$\":data/minMaxBasis.csv\";\n",
    "\n",
    "/show minMaxBasis"
   ]
  },
  {
   "cell_type": "markdown",
   "id": "80f073df-a6b2-49e3-bac3-f3480d2368a7",
   "metadata": {},
   "source": [
    "# 2. Variables globales"
   ]
  },
  {
   "cell_type": "code",
   "execution_count": 5,
   "id": "528acf0f-2224-47a4-88a9-e58c4ca9b365",
   "metadata": {},
   "outputs": [],
   "source": [
    "argname:`commonBase,\n",
    "        `profBase,\n",
    "        `hExtraFMBase,\n",
    "        `hExtraBase,\n",
    "        `irpfBase,\n",
    "        `meiBase;\n",
    "\n",
    "argrems:(`sb`cs`ge`se; \n",
    "         `sb`cs`hefm`her`ge`se;\n",
    "         `hefm;\n",
    "         `her;\n",
    "         `sb`cs`hefm`her`ge`se`pns;\n",
    "         `sb`cs`ge`se);\n",
    "\n",
    "argdate:0Nm,\n",
    "        0Nm,\n",
    "        0Nm,\n",
    "        0Nm,\n",
    "        0Nm,\n",
    "        2023.01m;"
   ]
  },
  {
   "cell_type": "markdown",
   "id": "b91a5f45-b6df-4cee-a038-46d6850ca0fc",
   "metadata": {},
   "source": [
    "# 3. Funciones\n"
   ]
  },
  {
   "cell_type": "code",
   "execution_count": 6,
   "id": "5dc512ef-6dd3-4660-9638-44d3e3add52f",
   "metadata": {},
   "outputs": [],
   "source": [
    "getremsum:{[name;lsim;sd]:() xkey select baseType:name, sum amount     /(get) (rem)uneration (sum)\n",
    "                                  by nif, month \n",
    "                                  from remunerations \n",
    "                                  where remunerationType in lsim, month>=sd;}\n",
    "\n",
    "minmax:{[n;cg;mo;bt]                                                   /values between (min)imumm & (max)imum\n",
    "    if[bt=`profBase; cg:4];\n",
    "    first exec maxBase & n | minBase \n",
    "    from minMaxBasis\n",
    "    where contrGroup= 4&cg, mo within(startDate;endDate)};"
   ]
  },
  {
   "cell_type": "markdown",
   "id": "dfff88ac-3e6f-4ce0-87d1-f4de3b1582b6",
   "metadata": {},
   "source": [
    "# 4. Generación de las tablas"
   ]
  },
  {
   "cell_type": "code",
   "execution_count": 7,
   "id": "75c85012-0c9e-4b81-a06c-b905a58ca3d9",
   "metadata": {},
   "outputs": [],
   "source": [
    "contributionBasis: (raze getremsum'[argname;argrems;argdate]) \n",
    "                    lj `nif xkey select contrGroup, nif from employees;\n",
    "\n",
    "update amount: minmax'[amount;contrGroup;month;baseType] \n",
    "  from `contributionBasis \n",
    "  where baseType in `commonBase`profBase`meiBase;\n",
    "\n",
    "delete contrGroup \n",
    "  from `contributionBasis;"
   ]
  },
  {
   "cell_type": "code",
   "execution_count": 8,
   "id": "5526a0a9-c67d-4827-a294-8a7d11712778",
   "metadata": {},
   "outputs": [],
   "source": [
    "timeend: .z.t"
   ]
  },
  {
   "cell_type": "markdown",
   "id": "8a02355a-dc82-4577-b1a2-92e680ea5906",
   "metadata": {},
   "source": [
    "Si se quisiese ver de forma más visual de las bases de cotización se puede pivotar la tabla de la siguiente manera:"
   ]
  },
  {
   "cell_type": "code",
   "execution_count": 9,
   "id": "e58ed3ed-0743-4eb4-b4be-72d8ee9c5fc6",
   "metadata": {},
   "outputs": [
    {
     "name": "stdout",
     "output_type": "stream",
     "text": [
      "nif       month  | commonBase profBase hExtraFMBase hExtraBase irpfBase meiBa..\n",
      "-----------------| ----------------------------------------------------------..\n",
      "00193031S 2021.07| 1050       1050     0            0          789.4722 0    ..\n",
      "00193031S 2021.08| 2516.077   2516.077 0            0          2516.077 0    ..\n",
      "00193031S 2021.09| 2726.691   2726.691 0            0          2726.691 0    ..\n",
      "00193031S 2021.10| 2505.712   2505.712 0            0          2505.712 0    ..\n",
      "00193031S 2022.07| 1166.7     1166.7   0            0          739.5401 0    ..\n",
      "00193031S 2022.08| 2708.856   2708.856 0            0          2708.856 0    ..\n",
      "00193031S 2022.09| 2727.476   2727.476 0            0          2727.476 0    ..\n",
      "00193031S 2022.10| 2388.047   2464.806 0            76.75866   2464.806 0    ..\n",
      "00193031S 2023.07| 1260       1260     0            0          794.9042 1260 ..\n",
      "00193031S 2023.08| 2470.244   2470.244 0            0          2470.244 2470...\n",
      "00193031S 2023.09| 2604.96    2604.96  0            0          2604.96  2604...\n",
      "00193031S 2023.10| 2371.114   2371.114 0            0          2371.114 2371...\n",
      "00193031S 2024.07| 1323       1323     26.18785     0          865.3631 1323 ..\n",
      "00193031S 2024.08| 2887.599   2887.599 0            0          2887.599 2887...\n",
      "00193031S 2024.09| 2756.542   2785.216 0            28.67416   2785.216 2756...\n",
      "00193031S 2024.10| 2683.205   2739.028 0            55.82258   2744.558 2683...\n",
      "00193031S 2025.07| 1381.2     1381.2   0            0          838.3402 1381...\n",
      "00311838G 2012.07| 928.1074   928.1074 0            0          928.1074 0    ..\n",
      "00311838G 2012.08| 1822.27    1822.27  0            0          1822.27  0    ..\n",
      "00311838G 2012.09| 1835.672   1973.347 0            137.6754   1973.347 0    ..\n",
      "..\n"
     ]
    }
   ],
   "source": [
    "show 0^exec `commonBase`profBase`hExtraFMBase`hExtraBase`irpfBase`meiBase#(baseType!amount) by nif,month from contributionBasis;"
   ]
  },
  {
   "cell_type": "markdown",
   "id": "9e275b41-e597-43c8-9cdb-23de44e97c9d",
   "metadata": {},
   "source": [
    "# 5. Guardar datos en csv"
   ]
  },
  {
   "cell_type": "code",
   "execution_count": 10,
   "id": "1fd575aa-6448-4d61-8ad0-822e7a6ab7f6",
   "metadata": {},
   "outputs": [],
   "source": [
    "`:data/contributionBasis set contributionBasis;"
   ]
  },
  {
   "cell_type": "code",
   "execution_count": 11,
   "id": "12042428-2b12-4acd-8187-856b5616bffe",
   "metadata": {},
   "outputs": [
    {
     "data": {
      "text/plain": [
       "\"Number of contribution basis: 238730\"\r\n"
      ]
     },
     "execution_count": 11,
     "metadata": {},
     "output_type": "execute_result"
    },
    {
     "data": {
      "text/plain": [
       "\"Total time spent: 00:00:00.434\"\r\n"
      ]
     },
     "execution_count": 11,
     "metadata": {},
     "output_type": "execute_result"
    }
   ],
   "source": [
    "\"Number of contribution basis: \", string count contributionBasis\n",
    "\n",
    "\"Total time spent: \",string timeend-timeorigin"
   ]
  }
 ],
 "metadata": {
  "kernelspec": {
   "display_name": "Q (kdb+)",
   "language": "q",
   "name": "qpk"
  },
  "language_info": {
   "file_extension": ".q",
   "mimetype": "text/x-q",
   "name": "q",
   "version": "4.1.0"
  }
 },
 "nbformat": 4,
 "nbformat_minor": 5
}
