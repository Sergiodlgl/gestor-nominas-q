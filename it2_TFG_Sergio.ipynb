{
 "cells": [
  {
   "cell_type": "markdown",
   "id": "7f5e1640-eaa9-4c6c-a7b0-e1f654505e92",
   "metadata": {},
   "source": [
    "# 1. Importar tablas"
   ]
  },
  {
   "cell_type": "code",
   "execution_count": 1,
   "id": "6a6ac996-0b34-4898-9780-0cb58bbeea87",
   "metadata": {},
   "outputs": [],
   "source": [
    "timeorigin: .z.t"
   ]
  },
  {
   "cell_type": "code",
   "execution_count": 2,
   "id": "303b12de-28a6-4248-afd5-7851619afe43",
   "metadata": {},
   "outputs": [],
   "source": [
    "/ 1.1. Importar tabla empleados\n",
    "employees:get `:data/employees;\n",
    "\n",
    "/show employees;"
   ]
  },
  {
   "cell_type": "code",
   "execution_count": 3,
   "id": "f3fea4cf-2e29-4e02-87f4-59e66e523437",
   "metadata": {},
   "outputs": [],
   "source": [
    "/ 1.2. Importar tabla remuneraciones\n",
    "remunerations:get `:data/remunerations;\n",
    "\n",
    "/show employees;"
   ]
  },
  {
   "cell_type": "code",
   "execution_count": 4,
   "id": "b835529f-adcb-4324-9e2d-41860d2d855e",
   "metadata": {},
   "outputs": [],
   "source": [
    "/ 1.3. Importar tabla de bases mínimas y máximas\n",
    "minMaxBasis:(\"DDFFI\";enlist csv) 0: `$\":data/minMaxBasis.csv\";\n",
    "\n",
    "/show minMaxBasis"
   ]
  },
  {
   "cell_type": "markdown",
   "id": "80f073df-a6b2-49e3-bac3-f3480d2368a7",
   "metadata": {},
   "source": [
    "# 2. Variables globales"
   ]
  },
  {
   "cell_type": "code",
   "execution_count": 5,
   "id": "528acf0f-2224-47a4-88a9-e58c4ca9b365",
   "metadata": {},
   "outputs": [],
   "source": [
    "argname:`commonBase,\n",
    "        `profBase,\n",
    "        `hExtraFMBase,\n",
    "        `hExtraBase,\n",
    "        `irpfBase,\n",
    "        `meiBase;\n",
    "\n",
    "argrems:(`sb`cs`ge`se; \n",
    "         `sb`cs`hefm`her`ge`se;\n",
    "         `hefm;\n",
    "         `her;\n",
    "         `sb`cs`hefm`her`ge`se`pns;\n",
    "         `sb`cs`ge`se);\n",
    "\n",
    "argdate:0Nm,\n",
    "        0Nm,\n",
    "        0Nm,\n",
    "        0Nm,\n",
    "        0Nm,\n",
    "        2023.01m;"
   ]
  },
  {
   "cell_type": "markdown",
   "id": "b91a5f45-b6df-4cee-a038-46d6850ca0fc",
   "metadata": {},
   "source": [
    "# 3. Funciones\n"
   ]
  },
  {
   "cell_type": "code",
   "execution_count": 6,
   "id": "5dc512ef-6dd3-4660-9638-44d3e3add52f",
   "metadata": {},
   "outputs": [],
   "source": [
    "getremsum:{[name;lsim;sd]:() xkey select baseType:name, sum amount     /(get) (rem)uneration (sum)\n",
    "                                  by nif, month \n",
    "                                  from remunerations \n",
    "                                  where remunerationType in lsim, month>=sd;}\n",
    "\n",
    "minmax:{[n;cg;mo;bt]                                                   /values between (min)imumm & (max)imum\n",
    "    if[bt=`profBase; cg:4];\n",
    "    first exec maxBase & n | minBase \n",
    "    from minMaxBasis\n",
    "    where contrGroup= 4&cg, mo within(startDate;endDate)};"
   ]
  },
  {
   "cell_type": "markdown",
   "id": "dfff88ac-3e6f-4ce0-87d1-f4de3b1582b6",
   "metadata": {},
   "source": [
    "# 4. Generación de las tablas"
   ]
  },
  {
   "cell_type": "code",
   "execution_count": 7,
   "id": "75c85012-0c9e-4b81-a06c-b905a58ca3d9",
   "metadata": {},
   "outputs": [],
   "source": [
    "contributionBasis: (raze getremsum'[argname;argrems;argdate]) \n",
    "                    lj `nif xkey select contrGroup, nif from employees;\n",
    "\n",
    "update amount: minmax'[amount;contrGroup;month;baseType] \n",
    "  from `contributionBasis \n",
    "  where baseType in `commonBase`profBase`meiBase;\n",
    "\n",
    "delete contrGroup \n",
    "  from `contributionBasis;"
   ]
  },
  {
   "cell_type": "code",
   "execution_count": 8,
   "id": "5526a0a9-c67d-4827-a294-8a7d11712778",
   "metadata": {},
   "outputs": [],
   "source": [
    "timeend: .z.t"
   ]
  },
  {
   "cell_type": "markdown",
   "id": "8a02355a-dc82-4577-b1a2-92e680ea5906",
   "metadata": {},
   "source": [
    "Si se quisiese ver de forma más visual de las bases de cotización se puede pivotar la tabla de la siguiente manera:"
   ]
  },
  {
   "cell_type": "code",
   "execution_count": 9,
   "id": "e58ed3ed-0743-4eb4-b4be-72d8ee9c5fc6",
   "metadata": {},
   "outputs": [
    {
     "name": "stdout",
     "output_type": "stream",
     "text": [
      "nif       month  | commonBase profBase hExtraFMBase hExtraBase irpfBase meiBa..\n",
      "-----------------| ----------------------------------------------------------..\n",
      "00193031S 2023.01| 1921.69    1921.69  0            0          1921.69  1921...\n",
      "00193031S 2023.02| 2524.371   2524.371 0            0          2524.371 2524...\n",
      "00193031S 2023.03| 2481.689   2481.689 0            0          2481.689 2481...\n",
      "00193031S 2023.04| 2542.129   2651.078 0            108.9484   2651.078 2542...\n",
      "00193031S 2023.05| 2537.447   2619.008 0            81.56081   2619.008 2537...\n",
      "00193031S 2023.06| 2509.009   2562.774 0            53.76449   2562.774 2509...\n",
      "00193031S 2023.07| 1260       1260     0            18.25154   358.9469 1260 ..\n",
      "00193031S 2024.01| 2067.462   2067.462 0            0          2067.462 2067...\n",
      "00193031S 2024.02| 2629.741   2629.741 0            0          2629.741 2629...\n",
      "00193031S 2024.03| 2857.66    2857.66  0            0          2857.66  2857...\n",
      "00193031S 2024.04| 2782.258   2782.258 0            0          2782.258 2782...\n",
      "00193031S 2024.05| 2776.285   2776.285 0            0          2776.285 2776...\n",
      "00193031S 2024.06| 2661.42    2718.451 0            57.03043   2718.451 2661...\n",
      "00193031S 2024.07| 1323       1323     0            14.556     354.1959 1323 ..\n",
      "00193031S 2025.01| 2306.185   2306.185 0            0          2306.185 2306...\n",
      "00193031S 2025.02| 2815.572   2966.406 0            150.8342   2966.406 2815...\n",
      "00193031S 2025.03| 2939.618   3034.106 0            94.48773   3034.106 2939...\n",
      "00193031S 2025.04| 2820.467   2820.467 0            0          2820.467 2820...\n",
      "00193031S 2025.05| 2818.35    2878.743 0            60.39321   2878.743 2818...\n",
      "00193031S 2025.06| 2747.73    2806.61  0            58.87993   2806.61  2747...\n",
      "..\n"
     ]
    }
   ],
   "source": [
    "show 0^exec `commonBase`profBase`hExtraFMBase`hExtraBase`irpfBase`meiBase#(baseType!amount) by nif,month from contributionBasis;"
   ]
  },
  {
   "cell_type": "markdown",
   "id": "9e275b41-e597-43c8-9cdb-23de44e97c9d",
   "metadata": {},
   "source": [
    "# 5. Guardar datos en csv"
   ]
  },
  {
   "cell_type": "code",
   "execution_count": 10,
   "id": "1fd575aa-6448-4d61-8ad0-822e7a6ab7f6",
   "metadata": {},
   "outputs": [],
   "source": [
    "`:data/contributionBasis set contributionBasis;"
   ]
  },
  {
   "cell_type": "code",
   "execution_count": 11,
   "id": "12042428-2b12-4acd-8187-856b5616bffe",
   "metadata": {},
   "outputs": [
    {
     "data": {
      "text/plain": [
       "\"Number of contribution basis: 225504\"\r\n"
      ]
     },
     "execution_count": 11,
     "metadata": {},
     "output_type": "execute_result"
    },
    {
     "data": {
      "text/plain": [
       "\"Total time spent: 00:00:00.443\"\r\n"
      ]
     },
     "execution_count": 11,
     "metadata": {},
     "output_type": "execute_result"
    }
   ],
   "source": [
    "\"Number of contribution basis: \", string count contributionBasis\n",
    "\n",
    "\"Total time spent: \",string timeend-timeorigin"
   ]
  }
 ],
 "metadata": {
  "kernelspec": {
   "display_name": "Q (kdb+)",
   "language": "q",
   "name": "qpk"
  },
  "language_info": {
   "file_extension": ".q",
   "mimetype": "text/x-q",
   "name": "q",
   "version": "4.1.0"
  }
 },
 "nbformat": 4,
 "nbformat_minor": 5
}
