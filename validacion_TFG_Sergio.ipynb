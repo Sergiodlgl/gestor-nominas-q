{
 "cells": [
  {
   "cell_type": "markdown",
   "id": "2eec6d5e-bb65-41b9-bc2a-1452b277f65c",
   "metadata": {},
   "source": [
    "# 1. Importar tablas"
   ]
  },
  {
   "cell_type": "code",
   "execution_count": 1,
   "id": "5387a9a8-5189-499d-b046-ccf07e888d92",
   "metadata": {},
   "outputs": [],
   "source": [
    "/ 1.1. Importar tabla empleados\n",
    "employees:get `:data/employees;\n",
    "\n",
    "/show employees;"
   ]
  },
  {
   "cell_type": "code",
   "execution_count": 2,
   "id": "1773046b-f3ed-420f-94a6-25a7fdc5aa1f",
   "metadata": {},
   "outputs": [],
   "source": [
    "/ 1.2. Importar tabla remuneraciones\n",
    "remunerations:get `:data/remunerations;\n",
    "\n",
    "/show remunerations;"
   ]
  },
  {
   "cell_type": "code",
   "execution_count": 3,
   "id": "204b3d7f-4580-4df3-80e6-0cec43181dcf",
   "metadata": {},
   "outputs": [],
   "source": [
    "/ 1.3. Importar tabla de las bases de contribución\n",
    "contributionBasis:get `:data/contributionBasis;\n",
    "\n",
    "/show contributionBasis"
   ]
  },
  {
   "cell_type": "code",
   "execution_count": 4,
   "id": "36fa9590-0e5d-4961-a879-8be95f22ad46",
   "metadata": {},
   "outputs": [],
   "source": [
    "/ 1.4. Importar tabla de las aportaciones\n",
    "monthlyContributions:get `:data/monthlyContributions;\n",
    "\n",
    "/show monthlyContributions"
   ]
  },
  {
   "cell_type": "markdown",
   "id": "66775237-6a25-4c24-afcb-759be44988d3",
   "metadata": {},
   "source": [
    "# 2. Pruebas funcionales"
   ]
  },
  {
   "cell_type": "markdown",
   "id": "738f2c51-55d9-4a21-9ba1-18eeb069c7d9",
   "metadata": {},
   "source": [
    "## 2.1. Pruebas de integración"
   ]
  },
  {
   "cell_type": "code",
   "execution_count": 5,
   "id": "9e3c538c-3a73-4b2c-9f8d-6b2c5f8edafe",
   "metadata": {},
   "outputs": [
    {
     "data": {
      "text/plain": [
       "1\r\n"
      ]
     },
     "execution_count": 5,
     "metadata": {},
     "output_type": "execute_result"
    },
    {
     "data": {
      "text/plain": [
       "1\r\n"
      ]
     },
     "execution_count": 5,
     "metadata": {},
     "output_type": "execute_result"
    },
    {
     "data": {
      "text/plain": [
       "1\r\n"
      ]
     },
     "execution_count": 5,
     "metadata": {},
     "output_type": "execute_result"
    },
    {
     "data": {
      "text/plain": [
       "1\r\n"
      ]
     },
     "execution_count": 5,
     "metadata": {},
     "output_type": "execute_result"
    }
   ],
   "source": [
    "count distinct null delete name from employees\n",
    "count distinct null remunerations\n",
    "count distinct null contributionBasis\n",
    "count distinct null monthlyContributions"
   ]
  },
  {
   "cell_type": "code",
   "execution_count": 6,
   "id": "d944c256-024b-4403-96fb-b88ef5756731",
   "metadata": {},
   "outputs": [
    {
     "data": {
      "text/plain": [
       "0b\r\n"
      ]
     },
     "execution_count": 6,
     "metadata": {},
     "output_type": "execute_result"
    },
    {
     "data": {
      "text/plain": [
       "0b\r\n"
      ]
     },
     "execution_count": 6,
     "metadata": {},
     "output_type": "execute_result"
    },
    {
     "data": {
      "text/plain": [
       "0b\r\n"
      ]
     },
     "execution_count": 6,
     "metadata": {},
     "output_type": "execute_result"
    },
    {
     "data": {
      "text/plain": [
       "0b\r\n"
      ]
     },
     "execution_count": 6,
     "metadata": {},
     "output_type": "execute_result"
    }
   ],
   "source": [
    "0 in employees[`contrGroup]\n",
    "0f in remunerations[`amount]\n",
    "0f in contributionBasis[`amount]\n",
    "0f in monthlyContributions[`amount]"
   ]
  },
  {
   "cell_type": "code",
   "execution_count": 7,
   "id": "6f78f62d-47be-44f7-8fff-f715e1f19e8f",
   "metadata": {},
   "outputs": [
    {
     "data": {
      "text/plain": [
       "1b\r\n"
      ]
     },
     "execution_count": 7,
     "metadata": {},
     "output_type": "execute_result"
    }
   ],
   "source": [
    "/cada tipo de remunetación genera una cantidad de bases\n",
    "t: select count i by remunerationType from remunerations;\n",
    "\n",
    "cb_pb_irpf: 3*(first value t[`sb]);\n",
    "her: first value t[`her];\n",
    "hefm: first value t[`hefm];\n",
    "mei: count select by nif, month from remunerations where month>=2023.01.01;\n",
    "\n",
    "(count contributionBasis)~(mei+her+hefm+cb_pb_irpf)"
   ]
  },
  {
   "cell_type": "code",
   "execution_count": 8,
   "id": "9daa51bc-6eba-4717-81d8-95b7abc9eefe",
   "metadata": {},
   "outputs": [
    {
     "name": "stdout",
     "output_type": "stream",
     "text": [
      "baseType    | x     y     \n",
      "------------| ------------\n",
      "commonBase  | 64220 128440\n",
      "hExtraBase  | 19367 38734 \n",
      "hExtraFMBase| 556   1112  \n",
      "irpfBase    | 64220 128440\n",
      "meiBase     | 12921 25842 \n",
      "profBase    | 64220 128440\n",
      "contributionType| x     \n",
      "----------------| ------\n",
      "at              | 64220 \n",
      "cc              | 128440\n",
      "dei             | 128440\n",
      "fgs             | 64220 \n",
      "fp              | 128440\n",
      "he              | 38734 \n",
      "hef             | 1112  \n",
      "irpf            | 62989 \n",
      "mei             | 25842 \n"
     ]
    }
   ],
   "source": [
    "/cada tipo de remunetación genera una cantidad de bases\n",
    "show select x:count i, y:2*count i  by baseType from contributionBasis;\n",
    "\n",
    "show select count i by contributionType from monthlyContributions;"
   ]
  },
  {
   "cell_type": "markdown",
   "id": "90e0bc02-ebfb-4f2e-95b2-91318323c040",
   "metadata": {},
   "source": [
    "## 2.2. Pruebas de aceptación"
   ]
  },
  {
   "cell_type": "code",
   "execution_count": 9,
   "id": "17622e1f-5469-44b2-9934-46f92484d58c",
   "metadata": {},
   "outputs": [],
   "source": [
    "l_nif: `00000001R`00000002W`00000003A;\n",
    "l_name: (\"P1\";\"P2\";\"P3\");\n",
    "l_naf: (\"NAF1\";\"NAF2\";\"NAF3\");\n",
    "l_contractType: `indef`temp`fijodis;\n",
    "l_workingSchedule: `parcial`parcial`completo;\n",
    "l_contrGroup: 2 8 1;\n",
    "l_cnae: `4212`8510`5320;\n",
    "\n",
    "employees: employees,([]nif:l_nif;name:l_name;naf:l_naf;contractType:l_contractType;workingSchedule:l_workingSchedule;contrGroup:l_contrGroup;cnae:l_cnae);"
   ]
  },
  {
   "cell_type": "code",
   "execution_count": 10,
   "id": "efb803ee-ab69-443d-ab5a-3ba9e5f9efd9",
   "metadata": {},
   "outputs": [],
   "source": [
    "/ 00000001R -> 1 mes no llega al mínimo, 1 mes se pasa de máximo, 1 mes normal\n",
    "l_nif:`00000001R`00000001R`00000001R;\n",
    "l_month:(2020.01m;2020.02m;2020.03m);\n",
    "l_remunerationType:`sb`sb`sb;\n",
    "l_amount: 500. 5000. 2000.;\n",
    "\n",
    "remunerations: remunerations,([]nif:l_nif;month:l_month;remunerationType:l_remunerationType;amount:l_amount);"
   ]
  },
  {
   "cell_type": "code",
   "execution_count": 11,
   "id": "1b3318ca-8304-4251-9f54-c1c499e27d50",
   "metadata": {},
   "outputs": [],
   "source": [
    "/ 00000002W -> 1 mes no llega al mínimo, 1 mes se pasa de máximo, 1 mes normal\n",
    "l_nif:`00000002W`00000002W`00000002W`00000002W`00000002W`00000002W`00000002W`00000002W;\n",
    "l_month:(2024.02m;2024.02m;2024.02m;2024.02m;2024.02m;2024.02m;2024.02m;2024.02m);\n",
    "l_remunerationType:`sb`cs`hefm`her`ge`se`pns`od;\n",
    "l_amount: 1500. 1000. 1000. 1000. 1000. 1000. 1000. 1000.;\n",
    "\n",
    "remunerations: remunerations,([]nif:l_nif;month:l_month;remunerationType:l_remunerationType;amount:l_amount);"
   ]
  },
  {
   "cell_type": "code",
   "execution_count": 12,
   "id": "23555e6f-4f57-4ec8-9890-a11bed7c91e1",
   "metadata": {},
   "outputs": [],
   "source": [
    "/ 00000003A -> 1 mes no llega al mínimo, 1 mes se pasa de máximo, 1 mes normal\n",
    "l_nif:12#`00000003A;\n",
    "l_month:2023.01m+til 12;\n",
    "l_remunerationType:12#`sb;\n",
    "l_amount:12#2000.;\n",
    "\n",
    "remunerations: remunerations,([]nif:l_nif;month:l_month;remunerationType:l_remunerationType;amount:l_amount);"
   ]
  },
  {
   "cell_type": "code",
   "execution_count": 13,
   "id": "5a10644a-e9ed-4923-bd6e-35181bae923b",
   "metadata": {},
   "outputs": [],
   "source": [
    "`:data/employees set employees;\n",
    "`:data/remunerations set remunerations;"
   ]
  },
  {
   "cell_type": "markdown",
   "id": "ab4aeac6-2022-435b-ae82-f4c651357ad0",
   "metadata": {},
   "source": [
    "**Atención**: Antes de ejecutar la celda de abajo, ejecuta *it2_TFG_Sergio* y *it3_TFG_Sergio*."
   ]
  },
  {
   "cell_type": "code",
   "execution_count": 14,
   "id": "301f3442-4ef9-4ec4-84b1-654e465ad3a0",
   "metadata": {},
   "outputs": [],
   "source": [
    "contributionBasis:get `:data/contributionBasis;\n",
    "monthlyContributions:get `:data/monthlyContributions;\n",
    "irpfBasis:get `:data/irpfBasis;"
   ]
  },
  {
   "cell_type": "code",
   "execution_count": 15,
   "id": "d9bf91b1-50d7-4c17-b92a-32d6f6d863a7",
   "metadata": {},
   "outputs": [
    {
     "data": {
      "text/plain": [
       "nif       month   baseType   amount\r\n",
       "-----------------------------------\r\n",
       "00000001R 2020.01 commonBase 1215.9\r\n",
       "00000001R 2020.01 profBase   1050  \r\n",
       "00000001R 2020.02 commonBase 4070.1\r\n",
       "00000001R 2020.02 profBase   4070.1\r\n",
       "00000001R 2020.03 commonBase 2000  \r\n",
       "00000001R 2020.03 profBase   2000  \r\n"
      ]
     },
     "execution_count": 15,
     "metadata": {},
     "output_type": "execute_result"
    }
   ],
   "source": [
    "asc select from contributionBasis where nif=`00000001R, baseType in `commonBase`profBase"
   ]
  },
  {
   "cell_type": "code",
   "execution_count": 16,
   "id": "1512ebbd-8a5e-47d8-8c49-35fb97ba7450",
   "metadata": {},
   "outputs": [
    {
     "data": {
      "text/plain": [
       "nif       month   baseType     amount\r\n",
       "-------------------------------------\r\n",
       "00000002W 2024.02 commonBase   4500  \r\n",
       "00000002W 2024.02 hExtraBase   1000  \r\n",
       "00000002W 2024.02 hExtraFMBase 1000  \r\n",
       "00000002W 2024.02 irpfBase     7500  \r\n",
       "00000002W 2024.02 meiBase      4500  \r\n",
       "00000002W 2024.02 profBase     4720.5\r\n"
      ]
     },
     "execution_count": 16,
     "metadata": {},
     "output_type": "execute_result"
    },
    {
     "data": {
      "text/plain": [
       "nif       month   contributor contributionType amount  \r\n",
       "-------------------------------------------------------\r\n",
       "00000002W 2024.02 E           at               70.8075 \r\n",
       "00000002W 2024.02 E           cc               1062    \r\n",
       "00000002W 2024.02 E           dei              259.6275\r\n",
       "00000002W 2024.02 E           fgs              9.441   \r\n",
       "00000002W 2024.02 E           fp               28.323  \r\n",
       "00000002W 2024.02 E           he               236     \r\n",
       "00000002W 2024.02 E           hef              120     \r\n",
       "00000002W 2024.02 E           mei              5.4     \r\n",
       "00000002W 2024.02 T           cc               211.5   \r\n",
       "00000002W 2024.02 T           dei              73.16775\r\n",
       "00000002W 2024.02 T           fp               4.7205  \r\n",
       "00000002W 2024.02 T           he               47      \r\n",
       "00000002W 2024.02 T           hef              20      \r\n",
       "00000002W 2024.02 T           irpf             375     \r\n",
       "00000002W 2024.02 T           mei              26.1    \r\n"
      ]
     },
     "execution_count": 16,
     "metadata": {},
     "output_type": "execute_result"
    }
   ],
   "source": [
    "asc select from contributionBasis where nif=`00000002W\n",
    "asc select from monthlyContributions where nif=`00000002W"
   ]
  },
  {
   "cell_type": "code",
   "execution_count": 17,
   "id": "32b6703f-0580-491f-ba01-18a48ffafa91",
   "metadata": {},
   "outputs": [
    {
     "data": {
      "text/plain": [
       "year nif       irpfRate\r\n",
       "-----------------------\r\n",
       "2023 00000003A 0.18    \r\n"
      ]
     },
     "execution_count": 17,
     "metadata": {},
     "output_type": "execute_result"
    },
    {
     "data": {
      "text/plain": [
       "nif       month   contributor contributionType amount\r\n",
       "-----------------------------------------------------\r\n",
       "00000003A 2023.01 T           irpf             360   \r\n"
      ]
     },
     "execution_count": 17,
     "metadata": {},
     "output_type": "execute_result"
    }
   ],
   "source": [
    "select from irpfBasis where nif=`00000003A, year=2023\n",
    "select from monthlyContributions where nif=`00000003A, month=2023.01m, contributionType=`irpf"
   ]
  }
 ],
 "metadata": {
  "kernelspec": {
   "display_name": "Q (kdb+)",
   "language": "q",
   "name": "qpk"
  },
  "language_info": {
   "file_extension": ".q",
   "mimetype": "text/x-q",
   "name": "q",
   "version": "4.1.0"
  }
 },
 "nbformat": 4,
 "nbformat_minor": 5
}
